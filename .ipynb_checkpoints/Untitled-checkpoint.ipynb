{
 "cells": [
  {
   "cell_type": "code",
   "execution_count": 7,
   "id": "656eb6f8",
   "metadata": {},
   "outputs": [
    {
     "name": "stdout",
     "output_type": "stream",
     "text": [
      "Downloading digit-recognizer.zip to C:\\Users\\Nikhil\\Mnist kaggle\n",
      "\n"
     ]
    },
    {
     "name": "stderr",
     "output_type": "stream",
     "text": [
      "\n",
      "  0%|          | 0.00/15.3M [00:00<?, ?B/s]\n",
      "  7%|6         | 1.00M/15.3M [00:01<00:21, 705kB/s]\n",
      " 13%|#3        | 2.00M/15.3M [00:01<00:09, 1.40MB/s]\n",
      " 20%|#9        | 3.00M/15.3M [00:01<00:05, 2.17MB/s]\n",
      " 26%|##6       | 4.00M/15.3M [00:02<00:03, 3.09MB/s]\n",
      " 33%|###2      | 5.00M/15.3M [00:02<00:02, 4.01MB/s]\n",
      " 39%|###9      | 6.00M/15.3M [00:02<00:02, 4.80MB/s]\n",
      " 46%|####5     | 7.00M/15.3M [00:02<00:01, 5.80MB/s]\n",
      " 52%|#####2    | 8.00M/15.3M [00:02<00:01, 6.33MB/s]\n",
      " 59%|#####8    | 9.00M/15.3M [00:02<00:00, 7.21MB/s]\n",
      " 65%|######5   | 10.0M/15.3M [00:02<00:00, 7.96MB/s]\n",
      " 72%|#######1  | 11.0M/15.3M [00:02<00:00, 8.37MB/s]\n",
      " 78%|#######8  | 12.0M/15.3M [00:02<00:00, 8.87MB/s]\n",
      " 85%|########4 | 13.0M/15.3M [00:03<00:00, 8.84MB/s]\n",
      " 98%|#########7| 15.0M/15.3M [00:03<00:00, 9.65MB/s]\n",
      "100%|##########| 15.3M/15.3M [00:03<00:00, 4.93MB/s]\n"
     ]
    }
   ],
   "source": [
    "import os\n",
    "from pathlib import Path\n",
    "if iskaggle: path = Path('../input/digit-recognizer')\n",
    "else:\n",
    "    path = Path('digit-recognizer')\n",
    "    if not path.exists():\n",
    "        import zipfile,kaggle\n",
    "        !kaggle competitions download -c digit-recognizer\n",
    "        zipfile.ZipFile(f'{path}.zip').extractall(path)"
   ]
  },
  {
   "cell_type": "code",
   "execution_count": 9,
   "id": "8f20ff17",
   "metadata": {},
   "outputs": [],
   "source": [
    "import pandas as pd "
   ]
  },
  {
   "cell_type": "code",
   "execution_count": null,
   "id": "d367de24",
   "metadata": {},
   "outputs": [],
   "source": [
    "train = pd.read_csv()"
   ]
  }
 ],
 "metadata": {
  "kernelspec": {
   "display_name": "ML",
   "language": "python",
   "name": "tensorflow"
  },
  "language_info": {
   "codemirror_mode": {
    "name": "ipython",
    "version": 3
   },
   "file_extension": ".py",
   "mimetype": "text/x-python",
   "name": "python",
   "nbconvert_exporter": "python",
   "pygments_lexer": "ipython3",
   "version": "3.7.16"
  }
 },
 "nbformat": 4,
 "nbformat_minor": 5
}
